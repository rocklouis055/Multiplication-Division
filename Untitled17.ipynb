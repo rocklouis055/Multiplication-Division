{
  "nbformat": 4,
  "nbformat_minor": 0,
  "metadata": {
    "colab": {
      "name": "Untitled17.ipynb",
      "provenance": [],
      "authorship_tag": "ABX9TyPbThfOsC27J894+e3LEGKs",
      "include_colab_link": true
    },
    "kernelspec": {
      "name": "python3",
      "display_name": "Python 3"
    },
    "language_info": {
      "name": "python"
    }
  },
  "cells": [
    {
      "cell_type": "markdown",
      "metadata": {
        "id": "view-in-github",
        "colab_type": "text"
      },
      "source": [
        "<a href=\"https://colab.research.google.com/github/rocklouis055/Multiplication-Division/blob/main/Untitled17.ipynb\" target=\"_parent\"><img src=\"https://colab.research.google.com/assets/colab-badge.svg\" alt=\"Open In Colab\"/></a>"
      ]
    },
    {
      "cell_type": "code",
      "source": [
        "import sys\n",
        "l=[]"
      ],
      "metadata": {
        "id": "njWZdWcHSV_Q"
      },
      "execution_count": 2,
      "outputs": []
    },
    {
      "cell_type": "code",
      "source": [
        "ak=input()\n",
        "b=input()\n"
      ],
      "metadata": {
        "colab": {
          "base_uri": "https://localhost:8080/"
        },
        "id": "_mNl4CKd1QTC",
        "outputId": "a9190cbf-08dc-4e2e-8e90-8898cf0f323e"
      },
      "execution_count": null,
      "outputs": [
        {
          "name": "stdout",
          "output_type": "stream",
          "text": [
            "456456\n",
            "9\n"
          ]
        }
      ]
    },
    {
      "cell_type": "code",
      "source": [
        "123*23"
      ],
      "metadata": {
        "colab": {
          "base_uri": "https://localhost:8080/"
        },
        "id": "BEayK36CUmUK",
        "outputId": "9dbd0f13-f204-4fbd-cb29-2c0c478737cd"
      },
      "execution_count": 1,
      "outputs": [
        {
          "output_type": "execute_result",
          "data": {
            "text/plain": [
              "2829"
            ]
          },
          "metadata": {},
          "execution_count": 1
        }
      ]
    },
    {
      "cell_type": "code",
      "source": [
        "f=open('a.txt','w')"
      ],
      "metadata": {
        "id": "XgUMMYU3bd1s"
      },
      "execution_count": 7,
      "outputs": []
    },
    {
      "cell_type": "code",
      "source": [
        "for i in range(5000):\n",
        "  print(f.read(10))"
      ],
      "metadata": {
        "colab": {
          "base_uri": "https://localhost:8080/",
          "height": 217
        },
        "id": "s_9vdPO2bxwz",
        "outputId": "139b1cb0-6fd8-462b-a69e-876ea4c8096d"
      },
      "execution_count": 8,
      "outputs": [
        {
          "output_type": "error",
          "ename": "UnsupportedOperation",
          "evalue": "ignored",
          "traceback": [
            "\u001b[0;31m---------------------------------------------------------------------------\u001b[0m",
            "\u001b[0;31mUnsupportedOperation\u001b[0m                      Traceback (most recent call last)",
            "\u001b[0;32m<ipython-input-8-2ba17951fc09>\u001b[0m in \u001b[0;36m<module>\u001b[0;34m()\u001b[0m\n\u001b[1;32m      1\u001b[0m \u001b[0;32mfor\u001b[0m \u001b[0mi\u001b[0m \u001b[0;32min\u001b[0m \u001b[0mrange\u001b[0m\u001b[0;34m(\u001b[0m\u001b[0;36m5000\u001b[0m\u001b[0;34m)\u001b[0m\u001b[0;34m:\u001b[0m\u001b[0;34m\u001b[0m\u001b[0;34m\u001b[0m\u001b[0m\n\u001b[0;32m----> 2\u001b[0;31m   \u001b[0mprint\u001b[0m\u001b[0;34m(\u001b[0m\u001b[0mf\u001b[0m\u001b[0;34m.\u001b[0m\u001b[0mread\u001b[0m\u001b[0;34m(\u001b[0m\u001b[0;36m10\u001b[0m\u001b[0;34m)\u001b[0m\u001b[0;34m)\u001b[0m\u001b[0;34m\u001b[0m\u001b[0;34m\u001b[0m\u001b[0m\n\u001b[0m",
            "\u001b[0;31mUnsupportedOperation\u001b[0m: not readable"
          ]
        }
      ]
    },
    {
      "cell_type": "code",
      "source": [
        "a1=[int(i) for i in ak[::-1]]\n",
        "a2=int(\"\".join(ak))\n",
        "b1=[int(i) for i in b[::-1]]\n",
        "b2=int(\"\".join(b))\n",
        "print((a1,b1))"
      ],
      "metadata": {
        "colab": {
          "base_uri": "https://localhost:8080/"
        },
        "id": "cC5csjAGQE7f",
        "outputId": "f41d7a40-8624-4657-c417-fe5d48c9f61d"
      },
      "execution_count": null,
      "outputs": [
        {
          "output_type": "stream",
          "name": "stdout",
          "text": [
            "([6, 4, 3, 4, 3, 2, 6, 4, 6, 4, 6, 4, 6, 4, 6, 5, 4, 6, 5, 4, 6, 4, 5], [9])\n"
          ]
        }
      ]
    },
    {
      "cell_type": "code",
      "source": [
        "import timeit"
      ],
      "metadata": {
        "id": "BU8qCas-183-"
      },
      "execution_count": null,
      "outputs": []
    },
    {
      "cell_type": "code",
      "source": [
        "def mul3(a,b):\n",
        "  global m,d,r\n",
        "  a.append(0)\n",
        "  c=0\n",
        "  for i in range(len(a)):\n",
        "    t=m[a[i]][b]+c\n",
        "    a[i]=r[t]\n",
        "    c=d[t]\n",
        "  return(a[::-1])"
      ],
      "metadata": {
        "id": "aLqnF8sIYdyp"
      },
      "execution_count": null,
      "outputs": []
    },
    {
      "cell_type": "code",
      "source": [
        "%timeit -n 10000000 a2*b2"
      ],
      "metadata": {
        "colab": {
          "base_uri": "https://localhost:8080/"
        },
        "id": "9CTzvTjw2MlY",
        "outputId": "0419b9f3-7727-4b62-dd44-4267472de9f3"
      },
      "execution_count": null,
      "outputs": [
        {
          "output_type": "stream",
          "name": "stdout",
          "text": [
            "10000000 loops, best of 5: 77.9 ns per loop\n"
          ]
        }
      ]
    },
    {
      "cell_type": "code",
      "source": [
        "%timeit -n 10000000 mul2(a1[:])"
      ],
      "metadata": {
        "colab": {
          "base_uri": "https://localhost:8080/"
        },
        "id": "uxxCNEI52R3m",
        "outputId": "9678408e-4966-401c-8d64-62cb7dfe70ee"
      },
      "execution_count": null,
      "outputs": [
        {
          "output_type": "stream",
          "name": "stdout",
          "text": [
            "10000000 loops, best of 5: 6.28 µs per loop\n"
          ]
        }
      ]
    },
    {
      "cell_type": "code",
      "source": [
        "def mul2(a,b):\n",
        "  l=[0]*(len(a)+len(b))\n",
        "  c=0\n",
        "  a.append(0)\n",
        "  for j in b:\n",
        "    for i in range(len(a)):\n",
        "      t=(a[i])*j+c\n",
        "      l[i]=(t%10)\n",
        "      c=t//10\n",
        "  return(l[::-1])"
      ],
      "metadata": {
        "id": "kCYXlwJN2uVH"
      },
      "execution_count": null,
      "outputs": []
    },
    {
      "cell_type": "code",
      "source": [
        "def mul(a,b):\n",
        "  return(a*b)"
      ],
      "metadata": {
        "id": "Z7LVhCQS2T_G"
      },
      "execution_count": null,
      "outputs": []
    },
    {
      "cell_type": "code",
      "source": [
        "print(mul(a2,b2))\n",
        "print(int(\"\".join(str(i) for i in mul2(a1,b1))))"
      ],
      "metadata": {
        "colab": {
          "base_uri": "https://localhost:8080/"
        },
        "id": "Xqsthw_n4AVt",
        "outputId": "3b1a150a-1cd1-4f3b-9354-0f0f99808fef"
      },
      "execution_count": null,
      "outputs": [
        {
          "output_type": "stream",
          "name": "stdout",
          "text": [
            "491810810818181816109114\n",
            "491810810818181816109114\n"
          ]
        }
      ]
    },
    {
      "cell_type": "code",
      "source": [
        "from time import time\n",
        "a=time()\n",
        "for i in range(1000):\n",
        "  mul(a2,b2)\n",
        "print(time()-a)\n",
        "a=time()\n",
        "for i in range(1000):\n",
        " a2*b2\n",
        "print(time()-a)\n",
        "a=time()\n",
        "for i in range(1000):\n",
        "  mul2(a1,b1)\n",
        "print(time()-a)\n",
        "a=time()\n",
        "for i in range(1000):\n",
        "  mul3(a1,b1)\n",
        "print(time()-a)"
      ],
      "metadata": {
        "colab": {
          "base_uri": "https://localhost:8080/",
          "height": 391
        },
        "id": "Eq-3A7QSJ764",
        "outputId": "5006953c-b95f-4da6-de05-731a6c23949e"
      },
      "execution_count": null,
      "outputs": [
        {
          "output_type": "stream",
          "name": "stdout",
          "text": [
            "0.00047206878662109375\n",
            "0.0003192424774169922\n",
            "25.01793622970581\n"
          ]
        },
        {
          "output_type": "error",
          "ename": "TypeError",
          "evalue": "ignored",
          "traceback": [
            "\u001b[0;31m---------------------------------------------------------------------------\u001b[0m",
            "\u001b[0;31mTypeError\u001b[0m                                 Traceback (most recent call last)",
            "\u001b[0;32m<ipython-input-363-de3c98ab12f0>\u001b[0m in \u001b[0;36m<module>\u001b[0;34m()\u001b[0m\n\u001b[1;32m     14\u001b[0m \u001b[0ma\u001b[0m\u001b[0;34m=\u001b[0m\u001b[0mtime\u001b[0m\u001b[0;34m(\u001b[0m\u001b[0;34m)\u001b[0m\u001b[0;34m\u001b[0m\u001b[0;34m\u001b[0m\u001b[0m\n\u001b[1;32m     15\u001b[0m \u001b[0;32mfor\u001b[0m \u001b[0mi\u001b[0m \u001b[0;32min\u001b[0m \u001b[0mrange\u001b[0m\u001b[0;34m(\u001b[0m\u001b[0;36m1000\u001b[0m\u001b[0;34m)\u001b[0m\u001b[0;34m:\u001b[0m\u001b[0;34m\u001b[0m\u001b[0;34m\u001b[0m\u001b[0m\n\u001b[0;32m---> 16\u001b[0;31m   \u001b[0mmul3\u001b[0m\u001b[0;34m(\u001b[0m\u001b[0ma1\u001b[0m\u001b[0;34m,\u001b[0m\u001b[0mb1\u001b[0m\u001b[0;34m)\u001b[0m\u001b[0;34m\u001b[0m\u001b[0;34m\u001b[0m\u001b[0m\n\u001b[0m\u001b[1;32m     17\u001b[0m \u001b[0mprint\u001b[0m\u001b[0;34m(\u001b[0m\u001b[0mtime\u001b[0m\u001b[0;34m(\u001b[0m\u001b[0;34m)\u001b[0m\u001b[0;34m-\u001b[0m\u001b[0ma\u001b[0m\u001b[0;34m)\u001b[0m\u001b[0;34m\u001b[0m\u001b[0;34m\u001b[0m\u001b[0m\n",
            "\u001b[0;32m<ipython-input-252-184547bad377>\u001b[0m in \u001b[0;36mmul3\u001b[0;34m(a, b)\u001b[0m\n\u001b[1;32m      4\u001b[0m   \u001b[0mc\u001b[0m\u001b[0;34m=\u001b[0m\u001b[0;36m0\u001b[0m\u001b[0;34m\u001b[0m\u001b[0;34m\u001b[0m\u001b[0m\n\u001b[1;32m      5\u001b[0m   \u001b[0;32mfor\u001b[0m \u001b[0mi\u001b[0m \u001b[0;32min\u001b[0m \u001b[0mrange\u001b[0m\u001b[0;34m(\u001b[0m\u001b[0mlen\u001b[0m\u001b[0;34m(\u001b[0m\u001b[0ma\u001b[0m\u001b[0;34m)\u001b[0m\u001b[0;34m)\u001b[0m\u001b[0;34m:\u001b[0m\u001b[0;34m\u001b[0m\u001b[0;34m\u001b[0m\u001b[0m\n\u001b[0;32m----> 6\u001b[0;31m     \u001b[0mt\u001b[0m\u001b[0;34m=\u001b[0m\u001b[0mm\u001b[0m\u001b[0;34m[\u001b[0m\u001b[0ma\u001b[0m\u001b[0;34m[\u001b[0m\u001b[0mi\u001b[0m\u001b[0;34m]\u001b[0m\u001b[0;34m]\u001b[0m\u001b[0;34m[\u001b[0m\u001b[0mb\u001b[0m\u001b[0;34m]\u001b[0m\u001b[0;34m+\u001b[0m\u001b[0mc\u001b[0m\u001b[0;34m\u001b[0m\u001b[0;34m\u001b[0m\u001b[0m\n\u001b[0m\u001b[1;32m      7\u001b[0m     \u001b[0ma\u001b[0m\u001b[0;34m[\u001b[0m\u001b[0mi\u001b[0m\u001b[0;34m]\u001b[0m\u001b[0;34m=\u001b[0m\u001b[0mr\u001b[0m\u001b[0;34m[\u001b[0m\u001b[0mt\u001b[0m\u001b[0;34m]\u001b[0m\u001b[0;34m\u001b[0m\u001b[0;34m\u001b[0m\u001b[0m\n\u001b[1;32m      8\u001b[0m     \u001b[0mc\u001b[0m\u001b[0;34m=\u001b[0m\u001b[0md\u001b[0m\u001b[0;34m[\u001b[0m\u001b[0mt\u001b[0m\u001b[0;34m]\u001b[0m\u001b[0;34m\u001b[0m\u001b[0;34m\u001b[0m\u001b[0m\n",
            "\u001b[0;31mTypeError\u001b[0m: list indices must be integers or slices, not list"
          ]
        }
      ]
    },
    {
      "cell_type": "code",
      "source": [
        "m=[]\n",
        "for i in range(10):\n",
        "  m.append([0]*100)\n",
        "d=[0]*1000\n",
        "r=[0]*1000\n",
        "c=0\n",
        "for i in range(10):\n",
        "  for j in range(100):\n",
        "    m[i][j]=j*i\n",
        "for i in range(10):\n",
        "  for j in range(100):\n",
        "    d[c]=c//10\n",
        "    r[c]=c%10\n",
        "    c+=1\n",
        "display(m)\n",
        "print(d)\n",
        "print(r)"
      ],
      "metadata": {
        "id": "GD0i5gB8UBWa"
      },
      "execution_count": null,
      "outputs": []
    },
    {
      "cell_type": "code",
      "source": [
        "t=0\n",
        "a=time()\n",
        "for i in range(100000):\n",
        " t+=8*8\n",
        "print(t,time()-a)\n",
        "t=0\n",
        "a=time()\n",
        "for i in range(100000):\n",
        "  t+=m[8][8]\n",
        "print(t,time()-a)\n",
        "t=0\n",
        "a=time()\n",
        "for i in range(100000):\n",
        "  t+=79//10\n",
        "print(t,time()-a)\n",
        "t=0\n",
        "a=time()\n",
        "for i in range(100000):\n",
        "  t+=d[79]\n",
        "print(t,time()-a)\n",
        "t=0\n",
        "a=time()\n",
        "for i in range(100000):\n",
        "  t+=79%10\n",
        "print(t,time()-a)\n",
        "t=0\n",
        "a=time()\n",
        "for i in range(100000):\n",
        "  t+=r[79]\n",
        "print(t,time()-a)"
      ],
      "metadata": {
        "colab": {
          "base_uri": "https://localhost:8080/"
        },
        "id": "KglY5xLzUVcj",
        "outputId": "fc6a303b-90c8-4ee7-a8ca-1b0f7c63981e"
      },
      "execution_count": null,
      "outputs": [
        {
          "output_type": "stream",
          "name": "stdout",
          "text": [
            "6400000 0.01134181022644043\n",
            "6400000 0.016797542572021484\n",
            "700000 0.011745214462280273\n",
            "700000 0.014253616333007812\n",
            "900000 0.010850906372070312\n",
            "900000 0.014344453811645508\n"
          ]
        }
      ]
    },
    {
      "cell_type": "code",
      "source": [
        "from blist import *\n",
        "k=[1,2,3,4,5]\n",
        "a=time()\n",
        "for i in range(100000):\n",
        "  k.insert(len(k),i)\n",
        "print(time()-a)\n",
        "k=blist([1,2,3,4,5])\n",
        "a=time()\n",
        "for i in range(100000):\n",
        "  k.insert(len(k),i)\n",
        "print(time()-a)"
      ],
      "metadata": {
        "colab": {
          "base_uri": "https://localhost:8080/"
        },
        "id": "WYYGlZqdrhxY",
        "outputId": "359dd375-e60f-4d43-8f9c-459e8bc55458"
      },
      "execution_count": null,
      "outputs": [
        {
          "output_type": "stream",
          "name": "stdout",
          "text": [
            "0.03573155403137207\n",
            "0.033896446228027344\n"
          ]
        }
      ]
    },
    {
      "cell_type": "code",
      "source": [
        "a=time()\n",
        "for i in range(10000):\n",
        "  mul2(a1,b1)\n",
        "print(time()-a)"
      ],
      "metadata": {
        "colab": {
          "base_uri": "https://localhost:8080/",
          "height": 339
        },
        "id": "u5QcBbVA4WV8",
        "outputId": "e0debc1d-2a19-4bb4-edad-6abfc44394f1"
      },
      "execution_count": null,
      "outputs": [
        {
          "output_type": "error",
          "ename": "KeyboardInterrupt",
          "evalue": "ignored",
          "traceback": [
            "\u001b[0;31m---------------------------------------------------------------------------\u001b[0m",
            "\u001b[0;31mKeyboardInterrupt\u001b[0m                         Traceback (most recent call last)",
            "\u001b[0;32m<ipython-input-362-76bb894ced0b>\u001b[0m in \u001b[0;36m<module>\u001b[0;34m()\u001b[0m\n\u001b[1;32m      1\u001b[0m \u001b[0ma\u001b[0m\u001b[0;34m=\u001b[0m\u001b[0mtime\u001b[0m\u001b[0;34m(\u001b[0m\u001b[0;34m)\u001b[0m\u001b[0;34m\u001b[0m\u001b[0;34m\u001b[0m\u001b[0m\n\u001b[1;32m      2\u001b[0m \u001b[0;32mfor\u001b[0m \u001b[0mi\u001b[0m \u001b[0;32min\u001b[0m \u001b[0mrange\u001b[0m\u001b[0;34m(\u001b[0m\u001b[0;36m10000\u001b[0m\u001b[0;34m)\u001b[0m\u001b[0;34m:\u001b[0m\u001b[0;34m\u001b[0m\u001b[0;34m\u001b[0m\u001b[0m\n\u001b[0;32m----> 3\u001b[0;31m   \u001b[0mmul2\u001b[0m\u001b[0;34m(\u001b[0m\u001b[0ma1\u001b[0m\u001b[0;34m,\u001b[0m\u001b[0mb1\u001b[0m\u001b[0;34m)\u001b[0m\u001b[0;34m\u001b[0m\u001b[0;34m\u001b[0m\u001b[0m\n\u001b[0m\u001b[1;32m      4\u001b[0m \u001b[0mprint\u001b[0m\u001b[0;34m(\u001b[0m\u001b[0mtime\u001b[0m\u001b[0;34m(\u001b[0m\u001b[0;34m)\u001b[0m\u001b[0;34m-\u001b[0m\u001b[0ma\u001b[0m\u001b[0;34m)\u001b[0m\u001b[0;34m\u001b[0m\u001b[0;34m\u001b[0m\u001b[0m\n",
            "\u001b[0;32m<ipython-input-348-1ff7385b2880>\u001b[0m in \u001b[0;36mmul2\u001b[0;34m(a, b)\u001b[0m\n\u001b[1;32m      6\u001b[0m     \u001b[0;32mfor\u001b[0m \u001b[0mi\u001b[0m \u001b[0;32min\u001b[0m \u001b[0mrange\u001b[0m\u001b[0;34m(\u001b[0m\u001b[0mlen\u001b[0m\u001b[0;34m(\u001b[0m\u001b[0ma\u001b[0m\u001b[0;34m)\u001b[0m\u001b[0;34m)\u001b[0m\u001b[0;34m:\u001b[0m\u001b[0;34m\u001b[0m\u001b[0;34m\u001b[0m\u001b[0m\n\u001b[1;32m      7\u001b[0m       \u001b[0mt\u001b[0m\u001b[0;34m=\u001b[0m\u001b[0;34m(\u001b[0m\u001b[0ma\u001b[0m\u001b[0;34m[\u001b[0m\u001b[0mi\u001b[0m\u001b[0;34m]\u001b[0m\u001b[0;34m)\u001b[0m\u001b[0;34m*\u001b[0m\u001b[0mj\u001b[0m\u001b[0;34m+\u001b[0m\u001b[0mc\u001b[0m\u001b[0;34m\u001b[0m\u001b[0;34m\u001b[0m\u001b[0m\n\u001b[0;32m----> 8\u001b[0;31m       \u001b[0ml\u001b[0m\u001b[0;34m[\u001b[0m\u001b[0mi\u001b[0m\u001b[0;34m]\u001b[0m\u001b[0;34m=\u001b[0m\u001b[0;34m(\u001b[0m\u001b[0mt\u001b[0m\u001b[0;34m%\u001b[0m\u001b[0;36m10\u001b[0m\u001b[0;34m)\u001b[0m\u001b[0;34m\u001b[0m\u001b[0;34m\u001b[0m\u001b[0m\n\u001b[0m\u001b[1;32m      9\u001b[0m       \u001b[0mc\u001b[0m\u001b[0;34m=\u001b[0m\u001b[0mt\u001b[0m\u001b[0;34m//\u001b[0m\u001b[0;36m10\u001b[0m\u001b[0;34m\u001b[0m\u001b[0;34m\u001b[0m\u001b[0m\n\u001b[1;32m     10\u001b[0m   \u001b[0;32mreturn\u001b[0m\u001b[0;34m(\u001b[0m\u001b[0ml\u001b[0m\u001b[0;34m[\u001b[0m\u001b[0;34m:\u001b[0m\u001b[0;34m:\u001b[0m\u001b[0;34m-\u001b[0m\u001b[0;36m1\u001b[0m\u001b[0;34m]\u001b[0m\u001b[0;34m)\u001b[0m\u001b[0;34m\u001b[0m\u001b[0;34m\u001b[0m\u001b[0m\n",
            "\u001b[0;31mKeyboardInterrupt\u001b[0m: "
          ]
        }
      ]
    },
    {
      "cell_type": "code",
      "source": [
        "!pip install blist"
      ],
      "metadata": {
        "colab": {
          "base_uri": "https://localhost:8080/"
        },
        "id": "4fZrlIqls4nW",
        "outputId": "6a510532-9478-4951-c18f-0d3ed81b5720"
      },
      "execution_count": null,
      "outputs": [
        {
          "output_type": "stream",
          "name": "stdout",
          "text": [
            "Collecting blist\n",
            "  Downloading blist-1.3.6.tar.gz (122 kB)\n",
            "\u001b[?25l\r\u001b[K     |██▊                             | 10 kB 21.9 MB/s eta 0:00:01\r\u001b[K     |█████▍                          | 20 kB 11.8 MB/s eta 0:00:01\r\u001b[K     |████████                        | 30 kB 9.4 MB/s eta 0:00:01\r\u001b[K     |██████████▊                     | 40 kB 7.8 MB/s eta 0:00:01\r\u001b[K     |█████████████▍                  | 51 kB 4.4 MB/s eta 0:00:01\r\u001b[K     |████████████████                | 61 kB 5.1 MB/s eta 0:00:01\r\u001b[K     |██████████████████▊             | 71 kB 5.6 MB/s eta 0:00:01\r\u001b[K     |█████████████████████▍          | 81 kB 5.9 MB/s eta 0:00:01\r\u001b[K     |████████████████████████        | 92 kB 6.6 MB/s eta 0:00:01\r\u001b[K     |██████████████████████████▊     | 102 kB 5.2 MB/s eta 0:00:01\r\u001b[K     |█████████████████████████████▍  | 112 kB 5.2 MB/s eta 0:00:01\r\u001b[K     |████████████████████████████████| 122 kB 5.2 MB/s \n",
            "\u001b[?25hBuilding wheels for collected packages: blist\n",
            "  Building wheel for blist (setup.py) ... \u001b[?25l\u001b[?25hdone\n",
            "  Created wheel for blist: filename=blist-1.3.6-cp37-cp37m-linux_x86_64.whl size=130614 sha256=d77b88ebbf6cf8f9e70c77bb486497cfbda750f6747f226d99bb45eee8f260ef\n",
            "  Stored in directory: /root/.cache/pip/wheels/50/2c/17/ae6047bdc296d26322607ef96f49bc0c93b60def0a6dbd258d\n",
            "Successfully built blist\n",
            "Installing collected packages: blist\n",
            "Successfully installed blist-1.3.6\n"
          ]
        }
      ]
    }
  ]
}